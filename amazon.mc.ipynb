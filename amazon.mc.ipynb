{
    "metadata": {
        "kernelspec": {
            "name": "SQL",
            "display_name": "SQL",
            "language": "sql"
        },
        "language_info": {
            "name": "sql",
            "version": ""
        }
    },
    "nbformat_minor": 2,
    "nbformat": 4,
    "cells": [
        {
            "cell_type": "markdown",
            "source": [
                "Today i am working on an amazon dataset from strata under presumably hard difficulty.\n",
                "\n",
                "Here is the prompt:\n",
                "\n",
                "You have a table of in-app purchases by user. Users that make their first in-app purchase are placed in a marketing campaign where they see call-to-actions for more in-app purchases. Find the number of users that made additional in-app purchases due to the success of the marketing campaign.\n",
                "\n",
                "The marketing campaign doesn't start until one day after the initial in-app purchase so users that only made one or multiple purchases on the first day do not count, nor do we count users that over time purchase only the products they purchased on the first day.\n",
                "\n",
                "user\\_id:intcreated\\_at:datetimeproduct\\_id:intquantity:intprice:int"
            ],
            "metadata": {
                "azdata_cell_guid": "d2fbd13b-233c-4030-be1a-4679a05e1655"
            },
            "attachments": {}
        },
        {
            "cell_type": "markdown",
            "source": [
                "Solution\n",
                "\n",
                "Summary of approach is to group users where the product\\_id after the min(created\\_at) or date of app purchase is NOT EQUAL to the product\\_id\n",
                "\n",
                "This is based on the conditions given:\n",
                "\n",
                "date of purchase (min(created\\_at)) is not considered in the in-app purchases\n",
                "\n",
                "and same product id after the required date is not accepted."
            ],
            "metadata": {
                "azdata_cell_guid": "ec628d39-819e-4401-b4ce-3108e687ac8f"
            },
            "attachments": {}
        },
        {
            "cell_type": "code",
            "source": [
                "-- see the min and max time per user_id ordered in asc\r\n",
                "select user_id, min(created_at), max(created_at)\r\n",
                "from marketing_campaign\r\n",
                "group by user_id\r\n",
                "order by user_id asc"
            ],
            "metadata": {
                "azdata_cell_guid": "39cbf8dc-e384-4043-be3d-b7bf8cb647f4",
                "language": "sql",
                "tags": []
            },
            "outputs": [],
            "execution_count": null
        },
        {
            "cell_type": "code",
            "source": [
                "with minimum_time as(\r\n",
                "    select user_id, min(created_at) as mc_start\r\n",
                "    from marketing_campaign\r\n",
                "    group by user_id\r\n",
                "    order by user_id\r\n",
                "),\r\n",
                "\r\n",
                "data as (\r\n",
                "select mc.user_id, sum(quantity) as sum_quantity, sum(price) as sum_price\r\n",
                "from marketing_campaign as mc\r\n",
                "join minimum_time as mt\r\n",
                "on mc.user_id = mt.user_id\r\n",
                "\r\n",
                "where mc.created_at > mt.mc_start\r\n",
                "\r\n",
                "\r\n",
                "group by mc.user_id\r\n",
                "order by mc.user_id\r\n",
                ")\r\n",
                "\r\n",
                "select sum_quantity,\r\n",
                "COUNT(*)\r\n",
                "from data\r\n",
                "where sum_quantity > 0\r\n",
                "group by sum_quantity"
            ],
            "metadata": {
                "azdata_cell_guid": "fc4bb454-def8-46d6-aca4-4f3d1fcc7362",
                "language": "sql"
            },
            "outputs": [],
            "execution_count": null
        },
        {
            "cell_type": "code",
            "source": [
                "/*select *,\r\n",
                "rank() over(partition by user_id \r\n",
                "                         order by created_at) as rn,\r\n",
                "    concat((user_id),'_', (product_id)) as user_product\r\n",
                "from marketing_campaign\r\n",
                "where user_id = 25\r\n",
                "\r\n",
                "\r\n",
                "\r\n",
                "with minimum_time as(\r\n",
                "    select user_id, min(created_at) as mc_start\r\n",
                "    from marketing_campaign\r\n",
                "    group by user_id\r\n",
                "    order by user_id\r\n",
                "),\r\n",
                "\r\n",
                "data as (\r\n",
                "select mc.user_id, sum(quantity) as sum_quantity, sum(price) as sum_price\r\n",
                "from marketing_campaign as mc\r\n",
                "join minimum_time as mt\r\n",
                "on mc.user_id = mt.user_id\r\n",
                "\r\n",
                "where mc.created_at > mt.mc_start\r\n",
                "or mc.created_at != mc.created_at\r\n",
                "or mc.product_id != mc.product_id\r\n",
                "\r\n",
                "group by mc.user_id\r\n",
                "order by mc.user_id\r\n",
                ")\r\n",
                "\r\n",
                "select *\r\n",
                "from data;\r\n",
                "/*\r\n",
                "select sum_quantity,\r\n",
                "COUNT(*)\r\n",
                "from data\r\n",
                "where sum_quantity > 0\r\n",
                "group by sum_quantity\r\n",
                "\r\n",
                "\r\n",
                "--practice on using the having function"
            ],
            "metadata": {
                "azdata_cell_guid": "4448dc0b-4af9-4d29-a515-9681f880a8d4",
                "language": "sql"
            },
            "outputs": [],
            "execution_count": null
        }
    ]
}